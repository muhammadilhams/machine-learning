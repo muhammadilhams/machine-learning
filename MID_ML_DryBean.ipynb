{
  "nbformat": 4,
  "nbformat_minor": 0,
  "metadata": {
    "colab": {
      "provenance": [],
      "collapsed_sections": [],
      "authorship_tag": "ABX9TyNCwTikTftj0/pqqNVJ0ifk",
      "include_colab_link": true
    },
    "kernelspec": {
      "name": "python3",
      "display_name": "Python 3"
    },
    "language_info": {
      "name": "python"
    }
  },
  "cells": [
    {
      "cell_type": "markdown",
      "metadata": {
        "id": "view-in-github",
        "colab_type": "text"
      },
      "source": [
        "<a href=\"https://colab.research.google.com/github/muhammadilhams/machine-learning/blob/main/MID_ML_DryBean.ipynb\" target=\"_parent\"><img src=\"https://colab.research.google.com/assets/colab-badge.svg\" alt=\"Open In Colab\"/></a>"
      ]
    },
    {
      "cell_type": "markdown",
      "source": [
        "Dataset : Dry Bean\n",
        "\n",
        "link : https://www.kaggle.com/datasets/sansuthi/dry-bean-dataset\n",
        "\n",
        "\n",
        "Nama Kelompok\n",
        "\n",
        "1. Muh. Ilham Saputra J (H071201075)\n",
        "\n",
        "2. Firman (H071201062)\n",
        "\n",
        "3. Ufairah (H071201091)\n",
        "\n",
        "4. Andika Ilham Sinau (H071201092)\n",
        "\n"
      ],
      "metadata": {
        "id": "uk1-L84eZsV7"
      }
    },
    {
      "cell_type": "code",
      "source": [
        "import urllib.request\n",
        "import os\n",
        "import pandas as pd\n",
        "import numpy as np\n",
        "import matplotlib.pyplot as plt\n",
        "import seaborn as sns\n",
        "from sklearn import model_selection as ms"
      ],
      "metadata": {
        "id": "O0phXHAyosBR"
      },
      "execution_count": 72,
      "outputs": []
    },
    {
      "cell_type": "code",
      "source": [
        "df =pd.read_csv(\"/content/Dry_Bean.csv\")\n",
        "df.head()"
      ],
      "metadata": {
        "colab": {
          "base_uri": "https://localhost:8080/",
          "height": 270
        },
        "id": "Ek5JppH4ovGI",
        "outputId": "b20f244a-95f3-41ce-9dc9-fb439bd6b646"
      },
      "execution_count": 73,
      "outputs": [
        {
          "output_type": "execute_result",
          "data": {
            "text/plain": [
              "    Area  Perimeter  MajorAxisLength  MinorAxisLength  AspectRation  \\\n",
              "0  28395    610.291       208.178117       173.888747      1.197191   \n",
              "1  28734    638.018       200.524796       182.734419      1.097356   \n",
              "2  29380    624.110       212.826130       175.931143      1.209713   \n",
              "3  30008    645.884       210.557999       182.516516      1.153638   \n",
              "4  30140    620.134       201.847882       190.279279      1.060798   \n",
              "\n",
              "   Eccentricity  ConvexArea  EquivDiameter    Extent  Solidity  roundness  \\\n",
              "0      0.549812       28715     190.141097  0.763923  0.988856   0.958027   \n",
              "1      0.411785       29172     191.272751  0.783968  0.984986   0.887034   \n",
              "2      0.562727       29690     193.410904  0.778113  0.989559   0.947849   \n",
              "3      0.498616       30724     195.467062  0.782681  0.976696   0.903936   \n",
              "4      0.333680       30417     195.896503  0.773098  0.990893   0.984877   \n",
              "\n",
              "   Compactness  ShapeFactor1  ShapeFactor2  ShapeFactor3  ShapeFactor4  Class  \n",
              "0     0.913358      0.007332      0.003147      0.834222      0.998724  SEKER  \n",
              "1     0.953861      0.006979      0.003564      0.909851      0.998430  SEKER  \n",
              "2     0.908774      0.007244      0.003048      0.825871      0.999066  SEKER  \n",
              "3     0.928329      0.007017      0.003215      0.861794      0.994199  SEKER  \n",
              "4     0.970516      0.006697      0.003665      0.941900      0.999166  SEKER  "
            ],
            "text/html": [
              "\n",
              "  <div id=\"df-947679de-940d-420c-9e92-6382dbf79940\">\n",
              "    <div class=\"colab-df-container\">\n",
              "      <div>\n",
              "<style scoped>\n",
              "    .dataframe tbody tr th:only-of-type {\n",
              "        vertical-align: middle;\n",
              "    }\n",
              "\n",
              "    .dataframe tbody tr th {\n",
              "        vertical-align: top;\n",
              "    }\n",
              "\n",
              "    .dataframe thead th {\n",
              "        text-align: right;\n",
              "    }\n",
              "</style>\n",
              "<table border=\"1\" class=\"dataframe\">\n",
              "  <thead>\n",
              "    <tr style=\"text-align: right;\">\n",
              "      <th></th>\n",
              "      <th>Area</th>\n",
              "      <th>Perimeter</th>\n",
              "      <th>MajorAxisLength</th>\n",
              "      <th>MinorAxisLength</th>\n",
              "      <th>AspectRation</th>\n",
              "      <th>Eccentricity</th>\n",
              "      <th>ConvexArea</th>\n",
              "      <th>EquivDiameter</th>\n",
              "      <th>Extent</th>\n",
              "      <th>Solidity</th>\n",
              "      <th>roundness</th>\n",
              "      <th>Compactness</th>\n",
              "      <th>ShapeFactor1</th>\n",
              "      <th>ShapeFactor2</th>\n",
              "      <th>ShapeFactor3</th>\n",
              "      <th>ShapeFactor4</th>\n",
              "      <th>Class</th>\n",
              "    </tr>\n",
              "  </thead>\n",
              "  <tbody>\n",
              "    <tr>\n",
              "      <th>0</th>\n",
              "      <td>28395</td>\n",
              "      <td>610.291</td>\n",
              "      <td>208.178117</td>\n",
              "      <td>173.888747</td>\n",
              "      <td>1.197191</td>\n",
              "      <td>0.549812</td>\n",
              "      <td>28715</td>\n",
              "      <td>190.141097</td>\n",
              "      <td>0.763923</td>\n",
              "      <td>0.988856</td>\n",
              "      <td>0.958027</td>\n",
              "      <td>0.913358</td>\n",
              "      <td>0.007332</td>\n",
              "      <td>0.003147</td>\n",
              "      <td>0.834222</td>\n",
              "      <td>0.998724</td>\n",
              "      <td>SEKER</td>\n",
              "    </tr>\n",
              "    <tr>\n",
              "      <th>1</th>\n",
              "      <td>28734</td>\n",
              "      <td>638.018</td>\n",
              "      <td>200.524796</td>\n",
              "      <td>182.734419</td>\n",
              "      <td>1.097356</td>\n",
              "      <td>0.411785</td>\n",
              "      <td>29172</td>\n",
              "      <td>191.272751</td>\n",
              "      <td>0.783968</td>\n",
              "      <td>0.984986</td>\n",
              "      <td>0.887034</td>\n",
              "      <td>0.953861</td>\n",
              "      <td>0.006979</td>\n",
              "      <td>0.003564</td>\n",
              "      <td>0.909851</td>\n",
              "      <td>0.998430</td>\n",
              "      <td>SEKER</td>\n",
              "    </tr>\n",
              "    <tr>\n",
              "      <th>2</th>\n",
              "      <td>29380</td>\n",
              "      <td>624.110</td>\n",
              "      <td>212.826130</td>\n",
              "      <td>175.931143</td>\n",
              "      <td>1.209713</td>\n",
              "      <td>0.562727</td>\n",
              "      <td>29690</td>\n",
              "      <td>193.410904</td>\n",
              "      <td>0.778113</td>\n",
              "      <td>0.989559</td>\n",
              "      <td>0.947849</td>\n",
              "      <td>0.908774</td>\n",
              "      <td>0.007244</td>\n",
              "      <td>0.003048</td>\n",
              "      <td>0.825871</td>\n",
              "      <td>0.999066</td>\n",
              "      <td>SEKER</td>\n",
              "    </tr>\n",
              "    <tr>\n",
              "      <th>3</th>\n",
              "      <td>30008</td>\n",
              "      <td>645.884</td>\n",
              "      <td>210.557999</td>\n",
              "      <td>182.516516</td>\n",
              "      <td>1.153638</td>\n",
              "      <td>0.498616</td>\n",
              "      <td>30724</td>\n",
              "      <td>195.467062</td>\n",
              "      <td>0.782681</td>\n",
              "      <td>0.976696</td>\n",
              "      <td>0.903936</td>\n",
              "      <td>0.928329</td>\n",
              "      <td>0.007017</td>\n",
              "      <td>0.003215</td>\n",
              "      <td>0.861794</td>\n",
              "      <td>0.994199</td>\n",
              "      <td>SEKER</td>\n",
              "    </tr>\n",
              "    <tr>\n",
              "      <th>4</th>\n",
              "      <td>30140</td>\n",
              "      <td>620.134</td>\n",
              "      <td>201.847882</td>\n",
              "      <td>190.279279</td>\n",
              "      <td>1.060798</td>\n",
              "      <td>0.333680</td>\n",
              "      <td>30417</td>\n",
              "      <td>195.896503</td>\n",
              "      <td>0.773098</td>\n",
              "      <td>0.990893</td>\n",
              "      <td>0.984877</td>\n",
              "      <td>0.970516</td>\n",
              "      <td>0.006697</td>\n",
              "      <td>0.003665</td>\n",
              "      <td>0.941900</td>\n",
              "      <td>0.999166</td>\n",
              "      <td>SEKER</td>\n",
              "    </tr>\n",
              "  </tbody>\n",
              "</table>\n",
              "</div>\n",
              "      <button class=\"colab-df-convert\" onclick=\"convertToInteractive('df-947679de-940d-420c-9e92-6382dbf79940')\"\n",
              "              title=\"Convert this dataframe to an interactive table.\"\n",
              "              style=\"display:none;\">\n",
              "        \n",
              "  <svg xmlns=\"http://www.w3.org/2000/svg\" height=\"24px\"viewBox=\"0 0 24 24\"\n",
              "       width=\"24px\">\n",
              "    <path d=\"M0 0h24v24H0V0z\" fill=\"none\"/>\n",
              "    <path d=\"M18.56 5.44l.94 2.06.94-2.06 2.06-.94-2.06-.94-.94-2.06-.94 2.06-2.06.94zm-11 1L8.5 8.5l.94-2.06 2.06-.94-2.06-.94L8.5 2.5l-.94 2.06-2.06.94zm10 10l.94 2.06.94-2.06 2.06-.94-2.06-.94-.94-2.06-.94 2.06-2.06.94z\"/><path d=\"M17.41 7.96l-1.37-1.37c-.4-.4-.92-.59-1.43-.59-.52 0-1.04.2-1.43.59L10.3 9.45l-7.72 7.72c-.78.78-.78 2.05 0 2.83L4 21.41c.39.39.9.59 1.41.59.51 0 1.02-.2 1.41-.59l7.78-7.78 2.81-2.81c.8-.78.8-2.07 0-2.86zM5.41 20L4 18.59l7.72-7.72 1.47 1.35L5.41 20z\"/>\n",
              "  </svg>\n",
              "      </button>\n",
              "      \n",
              "  <style>\n",
              "    .colab-df-container {\n",
              "      display:flex;\n",
              "      flex-wrap:wrap;\n",
              "      gap: 12px;\n",
              "    }\n",
              "\n",
              "    .colab-df-convert {\n",
              "      background-color: #E8F0FE;\n",
              "      border: none;\n",
              "      border-radius: 50%;\n",
              "      cursor: pointer;\n",
              "      display: none;\n",
              "      fill: #1967D2;\n",
              "      height: 32px;\n",
              "      padding: 0 0 0 0;\n",
              "      width: 32px;\n",
              "    }\n",
              "\n",
              "    .colab-df-convert:hover {\n",
              "      background-color: #E2EBFA;\n",
              "      box-shadow: 0px 1px 2px rgba(60, 64, 67, 0.3), 0px 1px 3px 1px rgba(60, 64, 67, 0.15);\n",
              "      fill: #174EA6;\n",
              "    }\n",
              "\n",
              "    [theme=dark] .colab-df-convert {\n",
              "      background-color: #3B4455;\n",
              "      fill: #D2E3FC;\n",
              "    }\n",
              "\n",
              "    [theme=dark] .colab-df-convert:hover {\n",
              "      background-color: #434B5C;\n",
              "      box-shadow: 0px 1px 3px 1px rgba(0, 0, 0, 0.15);\n",
              "      filter: drop-shadow(0px 1px 2px rgba(0, 0, 0, 0.3));\n",
              "      fill: #FFFFFF;\n",
              "    }\n",
              "  </style>\n",
              "\n",
              "      <script>\n",
              "        const buttonEl =\n",
              "          document.querySelector('#df-947679de-940d-420c-9e92-6382dbf79940 button.colab-df-convert');\n",
              "        buttonEl.style.display =\n",
              "          google.colab.kernel.accessAllowed ? 'block' : 'none';\n",
              "\n",
              "        async function convertToInteractive(key) {\n",
              "          const element = document.querySelector('#df-947679de-940d-420c-9e92-6382dbf79940');\n",
              "          const dataTable =\n",
              "            await google.colab.kernel.invokeFunction('convertToInteractive',\n",
              "                                                     [key], {});\n",
              "          if (!dataTable) return;\n",
              "\n",
              "          const docLinkHtml = 'Like what you see? Visit the ' +\n",
              "            '<a target=\"_blank\" href=https://colab.research.google.com/notebooks/data_table.ipynb>data table notebook</a>'\n",
              "            + ' to learn more about interactive tables.';\n",
              "          element.innerHTML = '';\n",
              "          dataTable['output_type'] = 'display_data';\n",
              "          await google.colab.output.renderOutput(dataTable, element);\n",
              "          const docLink = document.createElement('div');\n",
              "          docLink.innerHTML = docLinkHtml;\n",
              "          element.appendChild(docLink);\n",
              "        }\n",
              "      </script>\n",
              "    </div>\n",
              "  </div>\n",
              "  "
            ]
          },
          "metadata": {},
          "execution_count": 73
        }
      ]
    },
    {
      "cell_type": "code",
      "source": [
        "df.describe()"
      ],
      "metadata": {
        "colab": {
          "base_uri": "https://localhost:8080/",
          "height": 364
        },
        "id": "c6I2TSn6ptlH",
        "outputId": "2c8f4d80-bf47-42c1-af52-6808d8acfa3b"
      },
      "execution_count": 74,
      "outputs": [
        {
          "output_type": "execute_result",
          "data": {
            "text/plain": [
              "                Area     Perimeter  MajorAxisLength  MinorAxisLength  \\\n",
              "count   13611.000000  13611.000000     13611.000000     13611.000000   \n",
              "mean    53048.284549    855.283459       320.141867       202.270714   \n",
              "std     29324.095717    214.289696        85.694186        44.970091   \n",
              "min     20420.000000    524.736000       183.601165       122.512653   \n",
              "25%     36328.000000    703.523500       253.303633       175.848170   \n",
              "50%     44652.000000    794.941000       296.883367       192.431733   \n",
              "75%     61332.000000    977.213000       376.495012       217.031741   \n",
              "max    254616.000000   1985.370000       738.860154       460.198497   \n",
              "\n",
              "       AspectRation  Eccentricity     ConvexArea  EquivDiameter        Extent  \\\n",
              "count  13611.000000  13611.000000   13611.000000   13611.000000  13611.000000   \n",
              "mean       1.583242      0.750895   53768.200206     253.064220      0.749733   \n",
              "std        0.246678      0.092002   29774.915817      59.177120      0.049086   \n",
              "min        1.024868      0.218951   20684.000000     161.243764      0.555315   \n",
              "25%        1.432307      0.715928   36714.500000     215.068003      0.718634   \n",
              "50%        1.551124      0.764441   45178.000000     238.438026      0.759859   \n",
              "75%        1.707109      0.810466   62294.000000     279.446467      0.786851   \n",
              "max        2.430306      0.911423  263261.000000     569.374358      0.866195   \n",
              "\n",
              "           Solidity     roundness   Compactness  ShapeFactor1  ShapeFactor2  \\\n",
              "count  13611.000000  13611.000000  13611.000000  13611.000000  13611.000000   \n",
              "mean       0.987143      0.873282      0.799864      0.006564      0.001716   \n",
              "std        0.004660      0.059520      0.061713      0.001128      0.000596   \n",
              "min        0.919246      0.489618      0.640577      0.002778      0.000564   \n",
              "25%        0.985670      0.832096      0.762469      0.005900      0.001154   \n",
              "50%        0.988283      0.883157      0.801277      0.006645      0.001694   \n",
              "75%        0.990013      0.916869      0.834270      0.007271      0.002170   \n",
              "max        0.994677      0.990685      0.987303      0.010451      0.003665   \n",
              "\n",
              "       ShapeFactor3  ShapeFactor4  \n",
              "count  13611.000000  13611.000000  \n",
              "mean       0.643590      0.995063  \n",
              "std        0.098996      0.004366  \n",
              "min        0.410339      0.947687  \n",
              "25%        0.581359      0.993703  \n",
              "50%        0.642044      0.996386  \n",
              "75%        0.696006      0.997883  \n",
              "max        0.974767      0.999733  "
            ],
            "text/html": [
              "\n",
              "  <div id=\"df-898dbc63-d650-4dad-b382-37c2afaf1cbb\">\n",
              "    <div class=\"colab-df-container\">\n",
              "      <div>\n",
              "<style scoped>\n",
              "    .dataframe tbody tr th:only-of-type {\n",
              "        vertical-align: middle;\n",
              "    }\n",
              "\n",
              "    .dataframe tbody tr th {\n",
              "        vertical-align: top;\n",
              "    }\n",
              "\n",
              "    .dataframe thead th {\n",
              "        text-align: right;\n",
              "    }\n",
              "</style>\n",
              "<table border=\"1\" class=\"dataframe\">\n",
              "  <thead>\n",
              "    <tr style=\"text-align: right;\">\n",
              "      <th></th>\n",
              "      <th>Area</th>\n",
              "      <th>Perimeter</th>\n",
              "      <th>MajorAxisLength</th>\n",
              "      <th>MinorAxisLength</th>\n",
              "      <th>AspectRation</th>\n",
              "      <th>Eccentricity</th>\n",
              "      <th>ConvexArea</th>\n",
              "      <th>EquivDiameter</th>\n",
              "      <th>Extent</th>\n",
              "      <th>Solidity</th>\n",
              "      <th>roundness</th>\n",
              "      <th>Compactness</th>\n",
              "      <th>ShapeFactor1</th>\n",
              "      <th>ShapeFactor2</th>\n",
              "      <th>ShapeFactor3</th>\n",
              "      <th>ShapeFactor4</th>\n",
              "    </tr>\n",
              "  </thead>\n",
              "  <tbody>\n",
              "    <tr>\n",
              "      <th>count</th>\n",
              "      <td>13611.000000</td>\n",
              "      <td>13611.000000</td>\n",
              "      <td>13611.000000</td>\n",
              "      <td>13611.000000</td>\n",
              "      <td>13611.000000</td>\n",
              "      <td>13611.000000</td>\n",
              "      <td>13611.000000</td>\n",
              "      <td>13611.000000</td>\n",
              "      <td>13611.000000</td>\n",
              "      <td>13611.000000</td>\n",
              "      <td>13611.000000</td>\n",
              "      <td>13611.000000</td>\n",
              "      <td>13611.000000</td>\n",
              "      <td>13611.000000</td>\n",
              "      <td>13611.000000</td>\n",
              "      <td>13611.000000</td>\n",
              "    </tr>\n",
              "    <tr>\n",
              "      <th>mean</th>\n",
              "      <td>53048.284549</td>\n",
              "      <td>855.283459</td>\n",
              "      <td>320.141867</td>\n",
              "      <td>202.270714</td>\n",
              "      <td>1.583242</td>\n",
              "      <td>0.750895</td>\n",
              "      <td>53768.200206</td>\n",
              "      <td>253.064220</td>\n",
              "      <td>0.749733</td>\n",
              "      <td>0.987143</td>\n",
              "      <td>0.873282</td>\n",
              "      <td>0.799864</td>\n",
              "      <td>0.006564</td>\n",
              "      <td>0.001716</td>\n",
              "      <td>0.643590</td>\n",
              "      <td>0.995063</td>\n",
              "    </tr>\n",
              "    <tr>\n",
              "      <th>std</th>\n",
              "      <td>29324.095717</td>\n",
              "      <td>214.289696</td>\n",
              "      <td>85.694186</td>\n",
              "      <td>44.970091</td>\n",
              "      <td>0.246678</td>\n",
              "      <td>0.092002</td>\n",
              "      <td>29774.915817</td>\n",
              "      <td>59.177120</td>\n",
              "      <td>0.049086</td>\n",
              "      <td>0.004660</td>\n",
              "      <td>0.059520</td>\n",
              "      <td>0.061713</td>\n",
              "      <td>0.001128</td>\n",
              "      <td>0.000596</td>\n",
              "      <td>0.098996</td>\n",
              "      <td>0.004366</td>\n",
              "    </tr>\n",
              "    <tr>\n",
              "      <th>min</th>\n",
              "      <td>20420.000000</td>\n",
              "      <td>524.736000</td>\n",
              "      <td>183.601165</td>\n",
              "      <td>122.512653</td>\n",
              "      <td>1.024868</td>\n",
              "      <td>0.218951</td>\n",
              "      <td>20684.000000</td>\n",
              "      <td>161.243764</td>\n",
              "      <td>0.555315</td>\n",
              "      <td>0.919246</td>\n",
              "      <td>0.489618</td>\n",
              "      <td>0.640577</td>\n",
              "      <td>0.002778</td>\n",
              "      <td>0.000564</td>\n",
              "      <td>0.410339</td>\n",
              "      <td>0.947687</td>\n",
              "    </tr>\n",
              "    <tr>\n",
              "      <th>25%</th>\n",
              "      <td>36328.000000</td>\n",
              "      <td>703.523500</td>\n",
              "      <td>253.303633</td>\n",
              "      <td>175.848170</td>\n",
              "      <td>1.432307</td>\n",
              "      <td>0.715928</td>\n",
              "      <td>36714.500000</td>\n",
              "      <td>215.068003</td>\n",
              "      <td>0.718634</td>\n",
              "      <td>0.985670</td>\n",
              "      <td>0.832096</td>\n",
              "      <td>0.762469</td>\n",
              "      <td>0.005900</td>\n",
              "      <td>0.001154</td>\n",
              "      <td>0.581359</td>\n",
              "      <td>0.993703</td>\n",
              "    </tr>\n",
              "    <tr>\n",
              "      <th>50%</th>\n",
              "      <td>44652.000000</td>\n",
              "      <td>794.941000</td>\n",
              "      <td>296.883367</td>\n",
              "      <td>192.431733</td>\n",
              "      <td>1.551124</td>\n",
              "      <td>0.764441</td>\n",
              "      <td>45178.000000</td>\n",
              "      <td>238.438026</td>\n",
              "      <td>0.759859</td>\n",
              "      <td>0.988283</td>\n",
              "      <td>0.883157</td>\n",
              "      <td>0.801277</td>\n",
              "      <td>0.006645</td>\n",
              "      <td>0.001694</td>\n",
              "      <td>0.642044</td>\n",
              "      <td>0.996386</td>\n",
              "    </tr>\n",
              "    <tr>\n",
              "      <th>75%</th>\n",
              "      <td>61332.000000</td>\n",
              "      <td>977.213000</td>\n",
              "      <td>376.495012</td>\n",
              "      <td>217.031741</td>\n",
              "      <td>1.707109</td>\n",
              "      <td>0.810466</td>\n",
              "      <td>62294.000000</td>\n",
              "      <td>279.446467</td>\n",
              "      <td>0.786851</td>\n",
              "      <td>0.990013</td>\n",
              "      <td>0.916869</td>\n",
              "      <td>0.834270</td>\n",
              "      <td>0.007271</td>\n",
              "      <td>0.002170</td>\n",
              "      <td>0.696006</td>\n",
              "      <td>0.997883</td>\n",
              "    </tr>\n",
              "    <tr>\n",
              "      <th>max</th>\n",
              "      <td>254616.000000</td>\n",
              "      <td>1985.370000</td>\n",
              "      <td>738.860154</td>\n",
              "      <td>460.198497</td>\n",
              "      <td>2.430306</td>\n",
              "      <td>0.911423</td>\n",
              "      <td>263261.000000</td>\n",
              "      <td>569.374358</td>\n",
              "      <td>0.866195</td>\n",
              "      <td>0.994677</td>\n",
              "      <td>0.990685</td>\n",
              "      <td>0.987303</td>\n",
              "      <td>0.010451</td>\n",
              "      <td>0.003665</td>\n",
              "      <td>0.974767</td>\n",
              "      <td>0.999733</td>\n",
              "    </tr>\n",
              "  </tbody>\n",
              "</table>\n",
              "</div>\n",
              "      <button class=\"colab-df-convert\" onclick=\"convertToInteractive('df-898dbc63-d650-4dad-b382-37c2afaf1cbb')\"\n",
              "              title=\"Convert this dataframe to an interactive table.\"\n",
              "              style=\"display:none;\">\n",
              "        \n",
              "  <svg xmlns=\"http://www.w3.org/2000/svg\" height=\"24px\"viewBox=\"0 0 24 24\"\n",
              "       width=\"24px\">\n",
              "    <path d=\"M0 0h24v24H0V0z\" fill=\"none\"/>\n",
              "    <path d=\"M18.56 5.44l.94 2.06.94-2.06 2.06-.94-2.06-.94-.94-2.06-.94 2.06-2.06.94zm-11 1L8.5 8.5l.94-2.06 2.06-.94-2.06-.94L8.5 2.5l-.94 2.06-2.06.94zm10 10l.94 2.06.94-2.06 2.06-.94-2.06-.94-.94-2.06-.94 2.06-2.06.94z\"/><path d=\"M17.41 7.96l-1.37-1.37c-.4-.4-.92-.59-1.43-.59-.52 0-1.04.2-1.43.59L10.3 9.45l-7.72 7.72c-.78.78-.78 2.05 0 2.83L4 21.41c.39.39.9.59 1.41.59.51 0 1.02-.2 1.41-.59l7.78-7.78 2.81-2.81c.8-.78.8-2.07 0-2.86zM5.41 20L4 18.59l7.72-7.72 1.47 1.35L5.41 20z\"/>\n",
              "  </svg>\n",
              "      </button>\n",
              "      \n",
              "  <style>\n",
              "    .colab-df-container {\n",
              "      display:flex;\n",
              "      flex-wrap:wrap;\n",
              "      gap: 12px;\n",
              "    }\n",
              "\n",
              "    .colab-df-convert {\n",
              "      background-color: #E8F0FE;\n",
              "      border: none;\n",
              "      border-radius: 50%;\n",
              "      cursor: pointer;\n",
              "      display: none;\n",
              "      fill: #1967D2;\n",
              "      height: 32px;\n",
              "      padding: 0 0 0 0;\n",
              "      width: 32px;\n",
              "    }\n",
              "\n",
              "    .colab-df-convert:hover {\n",
              "      background-color: #E2EBFA;\n",
              "      box-shadow: 0px 1px 2px rgba(60, 64, 67, 0.3), 0px 1px 3px 1px rgba(60, 64, 67, 0.15);\n",
              "      fill: #174EA6;\n",
              "    }\n",
              "\n",
              "    [theme=dark] .colab-df-convert {\n",
              "      background-color: #3B4455;\n",
              "      fill: #D2E3FC;\n",
              "    }\n",
              "\n",
              "    [theme=dark] .colab-df-convert:hover {\n",
              "      background-color: #434B5C;\n",
              "      box-shadow: 0px 1px 3px 1px rgba(0, 0, 0, 0.15);\n",
              "      filter: drop-shadow(0px 1px 2px rgba(0, 0, 0, 0.3));\n",
              "      fill: #FFFFFF;\n",
              "    }\n",
              "  </style>\n",
              "\n",
              "      <script>\n",
              "        const buttonEl =\n",
              "          document.querySelector('#df-898dbc63-d650-4dad-b382-37c2afaf1cbb button.colab-df-convert');\n",
              "        buttonEl.style.display =\n",
              "          google.colab.kernel.accessAllowed ? 'block' : 'none';\n",
              "\n",
              "        async function convertToInteractive(key) {\n",
              "          const element = document.querySelector('#df-898dbc63-d650-4dad-b382-37c2afaf1cbb');\n",
              "          const dataTable =\n",
              "            await google.colab.kernel.invokeFunction('convertToInteractive',\n",
              "                                                     [key], {});\n",
              "          if (!dataTable) return;\n",
              "\n",
              "          const docLinkHtml = 'Like what you see? Visit the ' +\n",
              "            '<a target=\"_blank\" href=https://colab.research.google.com/notebooks/data_table.ipynb>data table notebook</a>'\n",
              "            + ' to learn more about interactive tables.';\n",
              "          element.innerHTML = '';\n",
              "          dataTable['output_type'] = 'display_data';\n",
              "          await google.colab.output.renderOutput(dataTable, element);\n",
              "          const docLink = document.createElement('div');\n",
              "          docLink.innerHTML = docLinkHtml;\n",
              "          element.appendChild(docLink);\n",
              "        }\n",
              "      </script>\n",
              "    </div>\n",
              "  </div>\n",
              "  "
            ]
          },
          "metadata": {},
          "execution_count": 74
        }
      ]
    },
    {
      "cell_type": "code",
      "source": [
        "#menampilkan tipedata dari setiap kolom\n",
        "df.info()"
      ],
      "metadata": {
        "colab": {
          "base_uri": "https://localhost:8080/"
        },
        "id": "WcTxY-v5pzL8",
        "outputId": "db07497c-e4f7-403e-dee1-d2fb14b3edee"
      },
      "execution_count": 75,
      "outputs": [
        {
          "output_type": "stream",
          "name": "stdout",
          "text": [
            "<class 'pandas.core.frame.DataFrame'>\n",
            "RangeIndex: 13611 entries, 0 to 13610\n",
            "Data columns (total 17 columns):\n",
            " #   Column           Non-Null Count  Dtype  \n",
            "---  ------           --------------  -----  \n",
            " 0   Area             13611 non-null  int64  \n",
            " 1   Perimeter        13611 non-null  float64\n",
            " 2   MajorAxisLength  13611 non-null  float64\n",
            " 3   MinorAxisLength  13611 non-null  float64\n",
            " 4   AspectRation     13611 non-null  float64\n",
            " 5   Eccentricity     13611 non-null  float64\n",
            " 6   ConvexArea       13611 non-null  int64  \n",
            " 7   EquivDiameter    13611 non-null  float64\n",
            " 8   Extent           13611 non-null  float64\n",
            " 9   Solidity         13611 non-null  float64\n",
            " 10  roundness        13611 non-null  float64\n",
            " 11  Compactness      13611 non-null  float64\n",
            " 12  ShapeFactor1     13611 non-null  float64\n",
            " 13  ShapeFactor2     13611 non-null  float64\n",
            " 14  ShapeFactor3     13611 non-null  float64\n",
            " 15  ShapeFactor4     13611 non-null  float64\n",
            " 16  Class            13611 non-null  object \n",
            "dtypes: float64(14), int64(2), object(1)\n",
            "memory usage: 1.8+ MB\n"
          ]
        }
      ]
    },
    {
      "cell_type": "code",
      "source": [
        "#menampilkan atribut pada kolom \"Class\"\n",
        "df.Class.unique()"
      ],
      "metadata": {
        "colab": {
          "base_uri": "https://localhost:8080/"
        },
        "id": "IMYF10N4qYF1",
        "outputId": "facd1e4b-00f1-4e63-8d79-252de1d171b9"
      },
      "execution_count": 76,
      "outputs": [
        {
          "output_type": "execute_result",
          "data": {
            "text/plain": [
              "array(['SEKER', 'BARBUNYA', 'BOMBAY', 'CALI', 'HOROZ', 'SIRA', 'DERMASON'],\n",
              "      dtype=object)"
            ]
          },
          "metadata": {},
          "execution_count": 76
        }
      ]
    },
    {
      "cell_type": "code",
      "source": [
        "#mengecek missing value\n",
        "df.isnull().sum()"
      ],
      "metadata": {
        "colab": {
          "base_uri": "https://localhost:8080/"
        },
        "id": "z28evcA3qiMb",
        "outputId": "c800b67f-30e7-45d3-f00f-cc76d8e09180"
      },
      "execution_count": 77,
      "outputs": [
        {
          "output_type": "execute_result",
          "data": {
            "text/plain": [
              "Area               0\n",
              "Perimeter          0\n",
              "MajorAxisLength    0\n",
              "MinorAxisLength    0\n",
              "AspectRation       0\n",
              "Eccentricity       0\n",
              "ConvexArea         0\n",
              "EquivDiameter      0\n",
              "Extent             0\n",
              "Solidity           0\n",
              "roundness          0\n",
              "Compactness        0\n",
              "ShapeFactor1       0\n",
              "ShapeFactor2       0\n",
              "ShapeFactor3       0\n",
              "ShapeFactor4       0\n",
              "Class              0\n",
              "dtype: int64"
            ]
          },
          "metadata": {},
          "execution_count": 77
        }
      ]
    },
    {
      "cell_type": "code",
      "source": [
        "#sebelum data terduplicate didrop\n",
        "df.count()"
      ],
      "metadata": {
        "colab": {
          "base_uri": "https://localhost:8080/"
        },
        "id": "QACH4Bsrq1Bp",
        "outputId": "1fcf0c78-d36e-4634-a959-136e78368510"
      },
      "execution_count": 78,
      "outputs": [
        {
          "output_type": "execute_result",
          "data": {
            "text/plain": [
              "Area               13611\n",
              "Perimeter          13611\n",
              "MajorAxisLength    13611\n",
              "MinorAxisLength    13611\n",
              "AspectRation       13611\n",
              "Eccentricity       13611\n",
              "ConvexArea         13611\n",
              "EquivDiameter      13611\n",
              "Extent             13611\n",
              "Solidity           13611\n",
              "roundness          13611\n",
              "Compactness        13611\n",
              "ShapeFactor1       13611\n",
              "ShapeFactor2       13611\n",
              "ShapeFactor3       13611\n",
              "ShapeFactor4       13611\n",
              "Class              13611\n",
              "dtype: int64"
            ]
          },
          "metadata": {},
          "execution_count": 78
        }
      ]
    },
    {
      "cell_type": "code",
      "source": [
        "duplicate_rows=df[df.duplicated(keep=False)]\n",
        "print(duplicate_rows)"
      ],
      "metadata": {
        "colab": {
          "base_uri": "https://localhost:8080/"
        },
        "id": "pWJRucehq02u",
        "outputId": "fdd31c3c-6131-4c92-8c5f-f9e0341dcd1f"
      },
      "execution_count": 79,
      "outputs": [
        {
          "output_type": "stream",
          "name": "stdout",
          "text": [
            "       Area  Perimeter  MajorAxisLength  MinorAxisLength  AspectRation  \\\n",
            "5504  33518    702.956       277.571399       154.305581      1.798842   \n",
            "5505  33518    702.956       277.571399       154.305581      1.798842   \n",
            "5508  33954    716.750       277.368480       156.356326      1.773951   \n",
            "5509  33954    716.750       277.368480       156.356326      1.773951   \n",
            "5547  38427    756.323       306.533886       160.591784      1.908777   \n",
            "...     ...        ...              ...              ...           ...   \n",
            "7285  63948    996.497       412.297178       198.877557      2.073121   \n",
            "7339  65766   1035.842       406.416622       207.242369      1.961069   \n",
            "7340  65766   1035.842       406.416622       207.242369      1.961069   \n",
            "7341  65781   1039.257       409.713859       204.992832      1.998674   \n",
            "7342  65781   1039.257       409.713859       204.992832      1.998674   \n",
            "\n",
            "      Eccentricity  ConvexArea  EquivDiameter    Extent  Solidity  roundness  \\\n",
            "5504      0.831240       34023     206.582775  0.808383  0.985157   0.852377   \n",
            "5505      0.831240       34023     206.582775  0.808383  0.985157   0.852377   \n",
            "5508      0.825970       34420     207.922042  0.799482  0.986461   0.830549   \n",
            "5509      0.825970       34420     207.922042  0.799482  0.986461   0.830549   \n",
            "5547      0.851782       38773     221.193978  0.796976  0.991076   0.844174   \n",
            "...            ...         ...            ...       ...       ...        ...   \n",
            "7285      0.875971       64641     285.343867  0.777909  0.989279   0.809254   \n",
            "7339      0.860218       66698     289.371512  0.792295  0.986027   0.770237   \n",
            "7340      0.860218       66698     289.371512  0.792295  0.986027   0.770237   \n",
            "7341      0.865834       66762     289.404510  0.642549  0.985306   0.765358   \n",
            "7342      0.865834       66762     289.404510  0.642549  0.985306   0.765358   \n",
            "\n",
            "      Compactness  ShapeFactor1  ShapeFactor2  ShapeFactor3  ShapeFactor4  \\\n",
            "5504     0.744251      0.008281      0.001567      0.553909      0.996396   \n",
            "5505     0.744251      0.008281      0.001567      0.553909      0.996396   \n",
            "5508     0.749624      0.008169      0.001591      0.561936      0.996847   \n",
            "5509     0.749624      0.008169      0.001591      0.561936      0.996847   \n",
            "5547     0.721597      0.007977      0.001334      0.520702      0.993905   \n",
            "...           ...           ...           ...           ...           ...   \n",
            "7285     0.692083      0.006447      0.000912      0.478979      0.992981   \n",
            "7339     0.712007      0.006180      0.000980      0.506954      0.994172   \n",
            "7340     0.712007      0.006180      0.000980      0.506954      0.994172   \n",
            "7341     0.706358      0.006228      0.000956      0.498941      0.997221   \n",
            "7342     0.706358      0.006228      0.000956      0.498941      0.997221   \n",
            "\n",
            "      Class  \n",
            "5504  HOROZ  \n",
            "5505  HOROZ  \n",
            "5508  HOROZ  \n",
            "5509  HOROZ  \n",
            "5547  HOROZ  \n",
            "...     ...  \n",
            "7285  HOROZ  \n",
            "7339  HOROZ  \n",
            "7340  HOROZ  \n",
            "7341  HOROZ  \n",
            "7342  HOROZ  \n",
            "\n",
            "[136 rows x 17 columns]\n"
          ]
        }
      ]
    },
    {
      "cell_type": "code",
      "source": [
        "#mendrop data yang terduplicate\n",
        "df= df.drop_duplicates()"
      ],
      "metadata": {
        "id": "ZFoGkL0hr7I_"
      },
      "execution_count": 80,
      "outputs": []
    },
    {
      "cell_type": "code",
      "source": [
        "#setelah data duplicate didrop\n",
        "df.count()"
      ],
      "metadata": {
        "colab": {
          "base_uri": "https://localhost:8080/"
        },
        "id": "ojPTaXvxsDRJ",
        "outputId": "cbfc5dda-4b9d-4df0-89e0-2f1e5fd01bd6"
      },
      "execution_count": 81,
      "outputs": [
        {
          "output_type": "execute_result",
          "data": {
            "text/plain": [
              "Area               13543\n",
              "Perimeter          13543\n",
              "MajorAxisLength    13543\n",
              "MinorAxisLength    13543\n",
              "AspectRation       13543\n",
              "Eccentricity       13543\n",
              "ConvexArea         13543\n",
              "EquivDiameter      13543\n",
              "Extent             13543\n",
              "Solidity           13543\n",
              "roundness          13543\n",
              "Compactness        13543\n",
              "ShapeFactor1       13543\n",
              "ShapeFactor2       13543\n",
              "ShapeFactor3       13543\n",
              "ShapeFactor4       13543\n",
              "Class              13543\n",
              "dtype: int64"
            ]
          },
          "metadata": {},
          "execution_count": 81
        }
      ]
    },
    {
      "cell_type": "code",
      "source": [
        "#mengecek jumlah data yang tidak logis\n",
        "tidak_logis = df[df.Area <= 0]\n",
        "print(tidak_logis)"
      ],
      "metadata": {
        "colab": {
          "base_uri": "https://localhost:8080/"
        },
        "id": "M8gNVWtvsW2M",
        "outputId": "6e7d4df8-662c-4f77-bbfe-31d31a4912d0"
      },
      "execution_count": 82,
      "outputs": [
        {
          "output_type": "stream",
          "name": "stdout",
          "text": [
            "Empty DataFrame\n",
            "Columns: [Area, Perimeter, MajorAxisLength, MinorAxisLength, AspectRation, Eccentricity, ConvexArea, EquivDiameter, Extent, Solidity, roundness, Compactness, ShapeFactor1, ShapeFactor2, ShapeFactor3, ShapeFactor4, Class]\n",
            "Index: []\n"
          ]
        }
      ]
    },
    {
      "cell_type": "code",
      "source": [
        "#banyaknya jumlah peratribut\n",
        "df.Class.value_counts()"
      ],
      "metadata": {
        "colab": {
          "base_uri": "https://localhost:8080/"
        },
        "id": "ZMWwWDo7qc4w",
        "outputId": "df3217bf-c375-4f7c-98ba-8c6b3e8ffd26"
      },
      "execution_count": 83,
      "outputs": [
        {
          "output_type": "execute_result",
          "data": {
            "text/plain": [
              "DERMASON    3546\n",
              "SIRA        2636\n",
              "SEKER       2027\n",
              "HOROZ       1860\n",
              "CALI        1630\n",
              "BARBUNYA    1322\n",
              "BOMBAY       522\n",
              "Name: Class, dtype: int64"
            ]
          },
          "metadata": {},
          "execution_count": 83
        }
      ]
    },
    {
      "cell_type": "code",
      "source": [
        "#inisialisasi relasi antara sumbu x dan y\n",
        "plt.scatter(x = df.Perimeter,y = df.Class)"
      ],
      "metadata": {
        "colab": {
          "base_uri": "https://localhost:8080/",
          "height": 282
        },
        "id": "80N7nvCprxU0",
        "outputId": "e00fb1a4-3e44-4c7e-e0d6-7fb13bf67d2e"
      },
      "execution_count": 84,
      "outputs": [
        {
          "output_type": "execute_result",
          "data": {
            "text/plain": [
              "<matplotlib.collections.PathCollection at 0x7f04490e5f50>"
            ]
          },
          "metadata": {},
          "execution_count": 84
        },
        {
          "output_type": "display_data",
          "data": {
            "text/plain": [
              "<Figure size 432x288 with 1 Axes>"
            ],
            "image/png": "[encoded data removed]"
          },
          "metadata": {
            "needs_background": "light"
          }
        }
      ]
    },
    {
      "cell_type": "code",
      "source": [
        "#mengubah atribut menjadi numerik\n",
        "encoding = {\"Class\":{\"SEKER\":2, \"BARBUNYA\":5, \"BOMBAY\":7, \"CALI\":6, \"DERMASON\":1, \"HOROZ\":4, \"SIRA\":3}}\n",
        "df.replace(encoding,inplace=True)\n"
      ],
      "metadata": {
        "id": "nveZYJKGtufe"
      },
      "execution_count": 85,
      "outputs": []
    },
    {
      "cell_type": "code",
      "source": [
        "#menampilkan atribut yang baru setelah di encoding\n",
        "df.Class.unique()"
      ],
      "metadata": {
        "colab": {
          "base_uri": "https://localhost:8080/"
        },
        "id": "uwbdd6_TwFiE",
        "outputId": "e4869737-94be-4907-ca63-124944e5f937"
      },
      "execution_count": 86,
      "outputs": [
        {
          "output_type": "execute_result",
          "data": {
            "text/plain": [
              "array([2, 5, 7, 6, 4, 3, 1])"
            ]
          },
          "metadata": {},
          "execution_count": 86
        }
      ]
    },
    {
      "cell_type": "code",
      "source": [
        "#menampilkan korelasi untuk setiap kolom \n",
        "plt.figure(figsize=(16,10))\n",
        "sns.heatmap(df.corr(method = \"pearson\"),annot=True, fmt='.2g')\n",
        "plt.title('Correlation between features`1', fontsize=14)"
      ],
      "metadata": {
        "colab": {
          "base_uri": "https://localhost:8080/",
          "height": 699
        },
        "id": "-UQQUkZywMQ9",
        "outputId": "d2464ae9-bfc8-4739-c0e8-4e87d582ccd4"
      },
      "execution_count": 87,
      "outputs": [
        {
          "output_type": "execute_result",
          "data": {
            "text/plain": [
              "Text(0.5, 1.0, 'Correlation between features`1')"
            ]
          },
          "metadata": {},
          "execution_count": 87
        },
        {
          "output_type": "display_data",
          "data": {
            "text/plain": [
              "<Figure size 1152x720 with 2 Axes>"
            ],
            "image/png": "[encoded data removed]"
          },
          "metadata": {
            "needs_background": "light"
          }
        }
      ]
    },
    {
      "cell_type": "code",
      "source": [
        "#menampilkan korelasi antara class dan semua kolom \n",
        "correlation2class = df.corr()[\"Class\"]\n",
        "correlation2class"
      ],
      "metadata": {
        "colab": {
          "base_uri": "https://localhost:8080/"
        },
        "id": "evMPcN0iwmIl",
        "outputId": "19638c24-623d-4cfb-c5cb-824832297ddc"
      },
      "execution_count": 88,
      "outputs": [
        {
          "output_type": "execute_result",
          "data": {
            "text/plain": [
              "Area               0.793667\n",
              "Perimeter          0.886053\n",
              "MajorAxisLength    0.886847\n",
              "MinorAxisLength    0.759033\n",
              "AspectRation       0.459313\n",
              "Eccentricity       0.444853\n",
              "ConvexArea         0.795091\n",
              "EquivDiameter      0.864823\n",
              "Extent            -0.040874\n",
              "Solidity          -0.341671\n",
              "roundness         -0.596917\n",
              "Compactness       -0.476703\n",
              "ShapeFactor1      -0.790004\n",
              "ShapeFactor2      -0.789212\n",
              "ShapeFactor3      -0.475788\n",
              "ShapeFactor4      -0.484808\n",
              "Class              1.000000\n",
              "Name: Class, dtype: float64"
            ]
          },
          "metadata": {},
          "execution_count": 88
        }
      ]
    },
    {
      "cell_type": "code",
      "source": [
        "#menampilkan korelasi nilai (secara) mutlak\n",
        "correlation2class.iloc[:] = abs(correlation2class.iloc[:])  \n",
        "correlation2class.drop(\"Class\", inplace=True)\n",
        "correlation2class.sort_values(ascending=False)\n",
        "#abs=nilai mutlak\n",
        "#iloc=mengambil semua nilai"
      ],
      "metadata": {
        "colab": {
          "base_uri": "https://localhost:8080/"
        },
        "id": "o_X52Lhyw4xu",
        "outputId": "f84f818e-0bff-4f06-db09-7b68c2f76e77"
      },
      "execution_count": 89,
      "outputs": [
        {
          "output_type": "execute_result",
          "data": {
            "text/plain": [
              "MajorAxisLength    0.886847\n",
              "Perimeter          0.886053\n",
              "EquivDiameter      0.864823\n",
              "ConvexArea         0.795091\n",
              "Area               0.793667\n",
              "ShapeFactor1       0.790004\n",
              "ShapeFactor2       0.789212\n",
              "MinorAxisLength    0.759033\n",
              "roundness          0.596917\n",
              "ShapeFactor4       0.484808\n",
              "Compactness        0.476703\n",
              "ShapeFactor3       0.475788\n",
              "AspectRation       0.459313\n",
              "Eccentricity       0.444853\n",
              "Solidity           0.341671\n",
              "Extent             0.040874\n",
              "Name: Class, dtype: float64"
            ]
          },
          "metadata": {},
          "execution_count": 89
        }
      ]
    },
    {
      "cell_type": "code",
      "source": [
        "#daftar nama atribut yang dikorelasikan dengan \"Class\"\n",
        "index = correlation2class.index\n",
        "\n",
        "fig, axs = plt.subplots(nrows=int(len(index)**0.5),ncols=int(len(index)**0.5), figsize=(16,12))\n",
        "for n, ax in enumerate(axs.flatten()):\n",
        "    ax.scatter(df[\"Class\"], df[index[n]])\n",
        "    ax.set_title(index[n])\n",
        "\n",
        "plt.suptitle('Penyebaran nilai fitur terhadap classnya', y = 0.95)\n",
        "plt.show()"
      ],
      "metadata": {
        "colab": {
          "base_uri": "https://localhost:8080/",
          "height": 761
        },
        "id": "6H3Q31bmyEnM",
        "outputId": "a5470cab-bbd8-47d0-df51-f29b0f495335"
      },
      "execution_count": 90,
      "outputs": [
        {
          "output_type": "display_data",
          "data": {
            "text/plain": [
              "<Figure size 1152x864 with 16 Axes>"
            ],
            "image/png": "[encoded data removed]"
          },
          "metadata": {
            "needs_background": "light"
          }
        }
      ]
    },
    {
      "cell_type": "code",
      "source": [
        "#mendrop nilai atribut \"Extent\" dan \"Solidity\" karena nilainya kurang bagus\n",
        "df.drop([\"Extent\",\"Solidity\"], axis=1,inplace=True)\n",
        "df.head()"
      ],
      "metadata": {
        "colab": {
          "base_uri": "https://localhost:8080/",
          "height": 270
        },
        "id": "lLizXkh_zX3C",
        "outputId": "5647c5ab-37d0-4114-e76a-5f412ae4d8a5"
      },
      "execution_count": 91,
      "outputs": [
        {
          "output_type": "execute_result",
          "data": {
            "text/plain": [
              "    Area  Perimeter  MajorAxisLength  MinorAxisLength  AspectRation  \\\n",
              "0  28395    610.291       208.178117       173.888747      1.197191   \n",
              "1  28734    638.018       200.524796       182.734419      1.097356   \n",
              "2  29380    624.110       212.826130       175.931143      1.209713   \n",
              "3  30008    645.884       210.557999       182.516516      1.153638   \n",
              "4  30140    620.134       201.847882       190.279279      1.060798   \n",
              "\n",
              "   Eccentricity  ConvexArea  EquivDiameter  roundness  Compactness  \\\n",
              "0      0.549812       28715     190.141097   0.958027     0.913358   \n",
              "1      0.411785       29172     191.272751   0.887034     0.953861   \n",
              "2      0.562727       29690     193.410904   0.947849     0.908774   \n",
              "3      0.498616       30724     195.467062   0.903936     0.928329   \n",
              "4      0.333680       30417     195.896503   0.984877     0.970516   \n",
              "\n",
              "   ShapeFactor1  ShapeFactor2  ShapeFactor3  ShapeFactor4  Class  \n",
              "0      0.007332      0.003147      0.834222      0.998724      2  \n",
              "1      0.006979      0.003564      0.909851      0.998430      2  \n",
              "2      0.007244      0.003048      0.825871      0.999066      2  \n",
              "3      0.007017      0.003215      0.861794      0.994199      2  \n",
              "4      0.006697      0.003665      0.941900      0.999166      2  "
            ],
            "text/html": [
              "\n",
              "  <div id=\"df-bc4602bf-1727-491f-b89f-12cbd896f338\">\n",
              "    <div class=\"colab-df-container\">\n",
              "      <div>\n",
              "<style scoped>\n",
              "    .dataframe tbody tr th:only-of-type {\n",
              "        vertical-align: middle;\n",
              "    }\n",
              "\n",
              "    .dataframe tbody tr th {\n",
              "        vertical-align: top;\n",
              "    }\n",
              "\n",
              "    .dataframe thead th {\n",
              "        text-align: right;\n",
              "    }\n",
              "</style>\n",
              "<table border=\"1\" class=\"dataframe\">\n",
              "  <thead>\n",
              "    <tr style=\"text-align: right;\">\n",
              "      <th></th>\n",
              "      <th>Area</th>\n",
              "      <th>Perimeter</th>\n",
              "      <th>MajorAxisLength</th>\n",
              "      <th>MinorAxisLength</th>\n",
              "      <th>AspectRation</th>\n",
              "      <th>Eccentricity</th>\n",
              "      <th>ConvexArea</th>\n",
              "      <th>EquivDiameter</th>\n",
              "      <th>roundness</th>\n",
              "      <th>Compactness</th>\n",
              "      <th>ShapeFactor1</th>\n",
              "      <th>ShapeFactor2</th>\n",
              "      <th>ShapeFactor3</th>\n",
              "      <th>ShapeFactor4</th>\n",
              "      <th>Class</th>\n",
              "    </tr>\n",
              "  </thead>\n",
              "  <tbody>\n",
              "    <tr>\n",
              "      <th>0</th>\n",
              "      <td>28395</td>\n",
              "      <td>610.291</td>\n",
              "      <td>208.178117</td>\n",
              "      <td>173.888747</td>\n",
              "      <td>1.197191</td>\n",
              "      <td>0.549812</td>\n",
              "      <td>28715</td>\n",
              "      <td>190.141097</td>\n",
              "      <td>0.958027</td>\n",
              "      <td>0.913358</td>\n",
              "      <td>0.007332</td>\n",
              "      <td>0.003147</td>\n",
              "      <td>0.834222</td>\n",
              "      <td>0.998724</td>\n",
              "      <td>2</td>\n",
              "    </tr>\n",
              "    <tr>\n",
              "      <th>1</th>\n",
              "      <td>28734</td>\n",
              "      <td>638.018</td>\n",
              "      <td>200.524796</td>\n",
              "      <td>182.734419</td>\n",
              "      <td>1.097356</td>\n",
              "      <td>0.411785</td>\n",
              "      <td>29172</td>\n",
              "      <td>191.272751</td>\n",
              "      <td>0.887034</td>\n",
              "      <td>0.953861</td>\n",
              "      <td>0.006979</td>\n",
              "      <td>0.003564</td>\n",
              "      <td>0.909851</td>\n",
              "      <td>0.998430</td>\n",
              "      <td>2</td>\n",
              "    </tr>\n",
              "    <tr>\n",
              "      <th>2</th>\n",
              "      <td>29380</td>\n",
              "      <td>624.110</td>\n",
              "      <td>212.826130</td>\n",
              "      <td>175.931143</td>\n",
              "      <td>1.209713</td>\n",
              "      <td>0.562727</td>\n",
              "      <td>29690</td>\n",
              "      <td>193.410904</td>\n",
              "      <td>0.947849</td>\n",
              "      <td>0.908774</td>\n",
              "      <td>0.007244</td>\n",
              "      <td>0.003048</td>\n",
              "      <td>0.825871</td>\n",
              "      <td>0.999066</td>\n",
              "      <td>2</td>\n",
              "    </tr>\n",
              "    <tr>\n",
              "      <th>3</th>\n",
              "      <td>30008</td>\n",
              "      <td>645.884</td>\n",
              "      <td>210.557999</td>\n",
              "      <td>182.516516</td>\n",
              "      <td>1.153638</td>\n",
              "      <td>0.498616</td>\n",
              "      <td>30724</td>\n",
              "      <td>195.467062</td>\n",
              "      <td>0.903936</td>\n",
              "      <td>0.928329</td>\n",
              "      <td>0.007017</td>\n",
              "      <td>0.003215</td>\n",
              "      <td>0.861794</td>\n",
              "      <td>0.994199</td>\n",
              "      <td>2</td>\n",
              "    </tr>\n",
              "    <tr>\n",
              "      <th>4</th>\n",
              "      <td>30140</td>\n",
              "      <td>620.134</td>\n",
              "      <td>201.847882</td>\n",
              "      <td>190.279279</td>\n",
              "      <td>1.060798</td>\n",
              "      <td>0.333680</td>\n",
              "      <td>30417</td>\n",
              "      <td>195.896503</td>\n",
              "      <td>0.984877</td>\n",
              "      <td>0.970516</td>\n",
              "      <td>0.006697</td>\n",
              "      <td>0.003665</td>\n",
              "      <td>0.941900</td>\n",
              "      <td>0.999166</td>\n",
              "      <td>2</td>\n",
              "    </tr>\n",
              "  </tbody>\n",
              "</table>\n",
              "</div>\n",
              "      <button class=\"colab-df-convert\" onclick=\"convertToInteractive('df-bc4602bf-1727-491f-b89f-12cbd896f338')\"\n",
              "              title=\"Convert this dataframe to an interactive table.\"\n",
              "              style=\"display:none;\">\n",
              "        \n",
              "  <svg xmlns=\"http://www.w3.org/2000/svg\" height=\"24px\"viewBox=\"0 0 24 24\"\n",
              "       width=\"24px\">\n",
              "    <path d=\"M0 0h24v24H0V0z\" fill=\"none\"/>\n",
              "    <path d=\"M18.56 5.44l.94 2.06.94-2.06 2.06-.94-2.06-.94-.94-2.06-.94 2.06-2.06.94zm-11 1L8.5 8.5l.94-2.06 2.06-.94-2.06-.94L8.5 2.5l-.94 2.06-2.06.94zm10 10l.94 2.06.94-2.06 2.06-.94-2.06-.94-.94-2.06-.94 2.06-2.06.94z\"/><path d=\"M17.41 7.96l-1.37-1.37c-.4-.4-.92-.59-1.43-.59-.52 0-1.04.2-1.43.59L10.3 9.45l-7.72 7.72c-.78.78-.78 2.05 0 2.83L4 21.41c.39.39.9.59 1.41.59.51 0 1.02-.2 1.41-.59l7.78-7.78 2.81-2.81c.8-.78.8-2.07 0-2.86zM5.41 20L4 18.59l7.72-7.72 1.47 1.35L5.41 20z\"/>\n",
              "  </svg>\n",
              "      </button>\n",
              "      \n",
              "  <style>\n",
              "    .colab-df-container {\n",
              "      display:flex;\n",
              "      flex-wrap:wrap;\n",
              "      gap: 12px;\n",
              "    }\n",
              "\n",
              "    .colab-df-convert {\n",
              "      background-color: #E8F0FE;\n",
              "      border: none;\n",
              "      border-radius: 50%;\n",
              "      cursor: pointer;\n",
              "      display: none;\n",
              "      fill: #1967D2;\n",
              "      height: 32px;\n",
              "      padding: 0 0 0 0;\n",
              "      width: 32px;\n",
              "    }\n",
              "\n",
              "    .colab-df-convert:hover {\n",
              "      background-color: #E2EBFA;\n",
              "      box-shadow: 0px 1px 2px rgba(60, 64, 67, 0.3), 0px 1px 3px 1px rgba(60, 64, 67, 0.15);\n",
              "      fill: #174EA6;\n",
              "    }\n",
              "\n",
              "    [theme=dark] .colab-df-convert {\n",
              "      background-color: #3B4455;\n",
              "      fill: #D2E3FC;\n",
              "    }\n",
              "\n",
              "    [theme=dark] .colab-df-convert:hover {\n",
              "      background-color: #434B5C;\n",
              "      box-shadow: 0px 1px 3px 1px rgba(0, 0, 0, 0.15);\n",
              "      filter: drop-shadow(0px 1px 2px rgba(0, 0, 0, 0.3));\n",
              "      fill: #FFFFFF;\n",
              "    }\n",
              "  </style>\n",
              "\n",
              "      <script>\n",
              "        const buttonEl =\n",
              "          document.querySelector('#df-bc4602bf-1727-491f-b89f-12cbd896f338 button.colab-df-convert');\n",
              "        buttonEl.style.display =\n",
              "          google.colab.kernel.accessAllowed ? 'block' : 'none';\n",
              "\n",
              "        async function convertToInteractive(key) {\n",
              "          const element = document.querySelector('#df-bc4602bf-1727-491f-b89f-12cbd896f338');\n",
              "          const dataTable =\n",
              "            await google.colab.kernel.invokeFunction('convertToInteractive',\n",
              "                                                     [key], {});\n",
              "          if (!dataTable) return;\n",
              "\n",
              "          const docLinkHtml = 'Like what you see? Visit the ' +\n",
              "            '<a target=\"_blank\" href=https://colab.research.google.com/notebooks/data_table.ipynb>data table notebook</a>'\n",
              "            + ' to learn more about interactive tables.';\n",
              "          element.innerHTML = '';\n",
              "          dataTable['output_type'] = 'display_data';\n",
              "          await google.colab.output.renderOutput(dataTable, element);\n",
              "          const docLink = document.createElement('div');\n",
              "          docLink.innerHTML = docLinkHtml;\n",
              "          element.appendChild(docLink);\n",
              "        }\n",
              "      </script>\n",
              "    </div>\n",
              "  </div>\n",
              "  "
            ]
          },
          "metadata": {},
          "execution_count": 91
        }
      ]
    },
    {
      "cell_type": "code",
      "source": [
        "#mendrop nilai dari kolom \"class\"\n",
        "X = df.drop(\"Class\", axis=1)\n",
        "y = df.Class\n"
      ],
      "metadata": {
        "id": "L5IqPxCtznKn"
      },
      "execution_count": 92,
      "outputs": []
    },
    {
      "cell_type": "code",
      "source": [
        "#X digunakan untuk melatih model (untuk) menemukan nilai y\n",
        "X_train, X_test, y_train, y_test = ms.train_test_split(X,y, test_size=0.2)\n",
        "#y=class(target)"
      ],
      "metadata": {
        "id": "wStJIe2h0e39"
      },
      "execution_count": 93,
      "outputs": []
    },
    {
      "cell_type": "markdown",
      "source": [
        "# Logistic regression"
      ],
      "metadata": {
        "id": "FrFgmsmH09Iq"
      }
    },
    {
      "cell_type": "code",
      "source": [
        "#algoritma ML\n",
        "from sklearn.linear_model import LogisticRegression\n",
        "from sklearn.metrics import r2_score"
      ],
      "metadata": {
        "id": "2Hn8EQ8p1XSt"
      },
      "execution_count": 94,
      "outputs": []
    },
    {
      "cell_type": "code",
      "source": [
        "#membuat variabel model1 untuk menyimpan model logistik regresi\n",
        "model1 = LogisticRegression(solver='newton-cg')\n",
        "model1.fit(X_train,y_train)"
      ],
      "metadata": {
        "colab": {
          "base_uri": "https://localhost:8080/"
        },
        "id": "QheycPrV1ZZq",
        "outputId": "e8de446d-fa1d-4671-af55-efc2a710c031"
      },
      "execution_count": 95,
      "outputs": [
        {
          "output_type": "stream",
          "name": "stderr",
          "text": [
            "/usr/local/lib/python3.7/dist-packages/scipy/optimize/linesearch.py:478: LineSearchWarning: The line search algorithm did not converge\n",
            "  warn('The line search algorithm did not converge', LineSearchWarning)\n",
            "/usr/local/lib/python3.7/dist-packages/scipy/optimize/linesearch.py:327: LineSearchWarning: The line search algorithm did not converge\n",
            "  warn('The line search algorithm did not converge', LineSearchWarning)\n",
            "/usr/local/lib/python3.7/dist-packages/sklearn/utils/optimize.py:212: ConvergenceWarning: newton-cg failed to converge. Increase the number of iterations.\n",
            "  ConvergenceWarning,\n"
          ]
        },
        {
          "output_type": "execute_result",
          "data": {
            "text/plain": [
              "LogisticRegression(solver='newton-cg')"
            ]
          },
          "metadata": {},
          "execution_count": 95
        }
      ]
    },
    {
      "cell_type": "code",
      "source": [
        "#memprediksi nilai y dari model yang telah dibuat\n",
        "y_pred = model1.predict(X_test)"
      ],
      "metadata": {
        "id": "F9iF3_S_1wvU"
      },
      "execution_count": 96,
      "outputs": []
    },
    {
      "cell_type": "code",
      "source": [
        "#menampilkan nilai prediksi akurasi\n",
        "print(r2_score(y_test,y_pred).round(3))"
      ],
      "metadata": {
        "colab": {
          "base_uri": "https://localhost:8080/"
        },
        "id": "lzadiGPD2CQs",
        "outputId": "cea47ae5-4177-40a7-be4b-488f24509372"
      },
      "execution_count": 97,
      "outputs": [
        {
          "output_type": "stream",
          "name": "stdout",
          "text": [
            "0.921\n"
          ]
        }
      ]
    },
    {
      "cell_type": "markdown",
      "source": [
        "#Decision Tree"
      ],
      "metadata": {
        "id": "CeddHnXY2JHS"
      }
    },
    {
      "cell_type": "code",
      "source": [
        "from sklearn.tree import DecisionTreeClassifier"
      ],
      "metadata": {
        "id": "6hz9f3P82Mjh"
      },
      "execution_count": 98,
      "outputs": []
    },
    {
      "cell_type": "code",
      "source": [
        "#membuat variabel model1 untuk menyimpan model decision free\n",
        "model2 = DecisionTreeClassifier()\n",
        "model2.fit(X_train, y_train)"
      ],
      "metadata": {
        "colab": {
          "base_uri": "https://localhost:8080/"
        },
        "id": "W3Uf7-IU2P3R",
        "outputId": "e0ef4998-6ab6-40fd-e065-7c23ce4600e7"
      },
      "execution_count": 99,
      "outputs": [
        {
          "output_type": "execute_result",
          "data": {
            "text/plain": [
              "DecisionTreeClassifier()"
            ]
          },
          "metadata": {},
          "execution_count": 99
        }
      ]
    },
    {
      "cell_type": "code",
      "source": [
        "#memprediksi nilai y dari model yang telah dibuat\n",
        "y_pred= model2.predict(X_test)"
      ],
      "metadata": {
        "id": "uueUjLz42ZkB"
      },
      "execution_count": 100,
      "outputs": []
    },
    {
      "cell_type": "code",
      "source": [
        "#menampilkan nilai prediksi akurasi\n",
        "print(r2_score(y_test,y_pred).round(3))"
      ],
      "metadata": {
        "colab": {
          "base_uri": "https://localhost:8080/"
        },
        "id": "vHh6okRO2h2C",
        "outputId": "6bf1c841-c98d-4273-f5fe-478ee138b4cc"
      },
      "execution_count": 101,
      "outputs": [
        {
          "output_type": "stream",
          "name": "stdout",
          "text": [
            "0.898\n"
          ]
        }
      ]
    }
  ]
}